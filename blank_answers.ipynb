{
 "cells": [
  {
   "cell_type": "code",
   "execution_count": 5,
   "metadata": {},
   "outputs": [],
   "source": [
    "import gensim\n",
    "from gensim.test.utils import datapath, get_tmpfile\n",
    "from gensim.scripts.glove2word2vec import glove2word2vec\n",
    "from gensim.models import KeyedVectors\n",
    "import fr_core_news_sm\n",
    "from dateutil.parser import parse\n",
    "import spacy\n",
    "from spacy import displacy\n",
    "from collections import Counter\n",
    "import random\n",
    "\n",
    "\n",
    "avoid_tags = [\"ADV_\", \"ADP_\", \"VERB\", \"PRON\", \"PUNC\"]\n",
    "\n",
    "filepath_wac_fr_data = \"data/frWac_no_postag_no_phrase_700_skip_cut50.bin\"\n",
    "nlp_fr = fr_core_news_sm.load()\n",
    "french_model = KeyedVectors.load_word2vec_format(filepath_wac_fr_data, binary=True, unicode_errors=\"ignore\")\n",
    "\n",
    "\n",
    "def is_date(string, fuzzy=False):\n",
    "    try: \n",
    "        parse(string, fuzzy=fuzzy)\n",
    "        return True\n",
    "\n",
    "    except ValueError:\n",
    "        return False\n",
    "\n",
    "def modify_date(answer_date):\n",
    "    int_confidence_year = 3\n",
    "    sooner_random_answer_tuple = (answer_date.year - int_confidence, answer_date.month - random.randint(0, answer_date.month), answer_date.day - random.randint(0, answer_date.day))\n",
    "    new_answer_year = answer_date.year - random.randint(0, int_confidence_year)\n",
    "    new_answer_month = answer_date.month - random.randint(0, answer_date.month - 1)\n",
    "    new_answer_day = answer_date.day - random.randint(0, answer_date.day - 1)\n",
    "    return datetime.datetime(new_answer_year, new_answer_month, new_answer_day)\n",
    "\n",
    "\n",
    "\n",
    "def modify_answer_to_blank(answer, nlp_fr, number_possible_answers=3):\n",
    "    answer = answer.lower()\n",
    "    possible_answers = []\n",
    "    doc_fr = nlp_fr(answer)\n",
    "    important_words_answer = [X for X in doc_fr if X.tag_[:4] not in avoid_tags] # 4 == taille des avoid_tags\n",
    "    important_word_answer = important_words_answer[random.randint(0, len(important_words_answer) - 1)]\n",
    "    blank_answer = answer.replace(important_word_answer.text, \"___\")\n",
    "    if is_date(important_word_answer.text):\n",
    "        for _ in range(number_possible_answers):\n",
    "            answer_date = parse(important_word_answer.text)\n",
    "            new_date = modify_date(answer_date)\n",
    "            possible_answers.append(new_date)\n",
    "    else:\n",
    "        for _ in range(number_possible_answers):\n",
    "            similar_words = french_model.most_similar(important_word_answer.text)\n",
    "            random_position_answer = random.randint(0, len(similar_words) - 1)\n",
    "            other_answer = similar_words[random_position_answer][0] \n",
    "            possible_answers.append(other_answer)\n",
    "        \n",
    "    return blank_answer, possible_answers\n",
    "\n",
    "\n",
    "\n"
   ]
  },
  {
   "cell_type": "code",
   "execution_count": 6,
   "metadata": {},
   "outputs": [
    {
     "name": "stdout",
     "output_type": "stream",
     "text": [
      "chez ___ nous mangeons bien.\n",
      "['septennat', 'villepin', 'mitterrand']\n"
     ]
    }
   ],
   "source": [
    "answer = \"Chez Chirac nous mangeons bien.\"\n",
    "answer_modified, possible_answers = modify_answer_to_blank(answer, nlp_fr)\n",
    "print(answer_modified)\n",
    "print(possible_answers)"
   ]
  },
  {
   "cell_type": "code",
   "execution_count": null,
   "metadata": {},
   "outputs": [],
   "source": []
  }
 ],
 "metadata": {
  "kernelspec": {
   "display_name": "Python 3",
   "language": "python",
   "name": "python3"
  },
  "language_info": {
   "codemirror_mode": {
    "name": "ipython",
    "version": 3
   },
   "file_extension": ".py",
   "mimetype": "text/x-python",
   "name": "python",
   "nbconvert_exporter": "python",
   "pygments_lexer": "ipython3",
   "version": "3.7.9"
  }
 },
 "nbformat": 4,
 "nbformat_minor": 4
}
